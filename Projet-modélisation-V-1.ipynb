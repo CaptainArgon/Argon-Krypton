{
 "cells": [
  {
   "cell_type": "markdown",
   "metadata": {},
   "source": [
    "# DYNAMOL-NVT\n",
    "\n",
    "Version 20201207 - Kyle Reeves (@kgreeves), Mathieu Salanne (@salanne)\n",
    "\n",
    "This jupyter notebook allows to simulate a monoatomic system in the [canonical ensemble](https://en.wikipedia.org/wiki/Canonical_ensemble) (*NVT*) using [molecular dynamics](https://en.wikipedia.org/wiki/Molecular_dynamics).\n",
    "\n",
    "The interactions are calculated using the [Lennard-Jones potential](https://en.wikipedia.org/wiki/Lennard-Jones_potential) :\n",
    "\n",
    "$$\n",
    "V(r) = 4\\epsilon \\left[ \\left(\\frac{\\sigma}{r}\\right)^{12}-\\left(\\frac{\\sigma}{r}\\right)^6 \\right]\n",
    "$$\n",
    "\n",
    "It accounts for short-range repulsion and dispersion interactions only, so in practice we can only simulate noble gases."
   ]
  },
  {
   "cell_type": "markdown",
   "metadata": {},
   "source": [
    "First we need to import the `numpy`, `matplotlib`, `numba`, `MDAnalysis` and `nglview` libraries:"
   ]
  },
  {
   "cell_type": "code",
   "execution_count": 5,
   "metadata": {},
   "outputs": [
    {
     "data": {
      "application/vnd.jupyter.widget-view+json": {
       "model_id": "828167e6d8454bb8b1131f717f7952ad",
       "version_major": 2,
       "version_minor": 0
      },
      "text/plain": []
     },
     "metadata": {},
     "output_type": "display_data"
    }
   ],
   "source": [
    "import matplotlib.pyplot as plt\n",
    "import numpy as np\n",
    "import numba\n",
    "\n",
    "#For Visualization\n",
    "import MDAnalysis\n",
    "import nglview as nv\n",
    "from nglview.datafiles import PDB, XTC"
   ]
  },
  {
   "cell_type": "markdown",
   "metadata": {},
   "source": [
    "Then we define a series of parameters that will often be changed :\n",
    "- `Nsteps` is the number of steps of the simulation\n",
    "- `Nequil` is the number of steps for equilibration (the remaining steps are production)\n",
    "- `Frequency_write_physical_properties` is the frequency at which the physical quantities are saved\n",
    "- `Frequency_write_trajectories` is the frequency at which the trajectories are saved\n",
    "- `Ngrid_rdf` defines the number of points for the computation of the [radial distribution function](https://en.wikipedia.org/wiki/Radial_distribution_function)\n",
    "- `Box_size` is the length of the cubic box edge\n",
    "- `Temperature_imposed` is the imposed temperature during equilibration"
   ]
  },
  {
   "cell_type": "code",
   "execution_count": 6,
   "metadata": {},
   "outputs": [],
   "source": [
    "Nsteps = 5000\n",
    "Nequil = 1000\n",
    "Frequency_write_physical_properties = 1\n",
    "Frequency_write_trajectories = 10\n",
    "Ngrid_rdf = 100\n",
    "Box_size = 24.0 # 15.768 for solid Ar at 0 K\n",
    "Temperature_imposed = 85.0"
   ]
  },
  {
   "cell_type": "markdown",
   "metadata": {},
   "source": [
    "And a series of parameters that we should not change much :\n",
    "- `Timestep_fs` is the timestep (in fs, 1 fs = 10$^{-15}$ s)\n",
    "- `Thermostat_relaxation_time_fs` is the characteristic time of the thermostat (in fs)\n",
    "- `Natoms` is the number of atoms (Warning! Changing this requires a few additional changes below)\n",
    "- `Mass` is the atomic mass (in g mol$^{-1}$) of the simulated compound\n",
    "- `Epsilon` is the $\\epsilon$ parameter of the Lennard-Jones potential (in kJ mol$^{-1}$)\n",
    "- `Sigma` is the $\\sigma$ parameter of the Lennard-Jones potential (in $\\unicode{x212B}$)\n",
    "\n",
    "The initial settings correspond to the [Argon](https://www.webelements.com/argon/) atom."
   ]
  },
  {
   "cell_type": "code",
   "execution_count": 185,
   "metadata": {},
   "outputs": [],
   "source": [
    "Timestep_fs = 5.0\n",
    "Thermostat_relaxation_time_fs = 100.0\n",
    "\n",
    "Nargon = 56\n",
    "\n",
    "MassAr = 39.948\n",
    "EpsilonAr = 0.9966288\n",
    "SigmaAr = 3.405     \n",
    "\n",
    "Nkrypton = 200\n",
    "\n",
    "MassKr = 83.798\n",
    "EpsilonKr = 0.9966288   \n",
    "SigmaKr = 3.405\n",
    "\n",
    "# systeme Ar-Kr ?\n",
    "# Sigma = (SigmaAr+SigmaKr)/2\n",
    "Epsilon = 0.9966288\n",
    "Sigma = 3.405\n",
    "Natoms = Nargon + Nkrypton\n"
   ]
  },
  {
   "cell_type": "markdown",
   "metadata": {},
   "source": [
    "We also need to define a few physical constants :"
   ]
  },
  {
   "cell_type": "code",
   "execution_count": 186,
   "metadata": {},
   "outputs": [],
   "source": [
    "Avogadro = 6.022140857e23\n",
    "Boltzmann = 1.38064852e-23\n",
    "Bohr = 0.52917721067e-10\n",
    "Pi = 3.14159265358979323"
   ]
  },
  {
   "cell_type": "markdown",
   "metadata": {},
   "source": [
    "For consistency, all the computations are made in [atomic units](https://en.wikipedia.org/wiki/Hartree_atomic_units), then the results are plotted in conventional units. We therefore need define a series of conversion factors."
   ]
  },
  {
   "cell_type": "code",
   "execution_count": 187,
   "metadata": {},
   "outputs": [],
   "source": [
    "Time_fs2au = 1.0 / 2.4188843265857e-2\n",
    "Length_Angstrom2au = 1.0e-10 / Bohr\n",
    "Length_au2Angstrom = 1.0 / Length_Angstrom2au\n",
    "Energy_au2J = 4.359744650e-18\n",
    "Energy_J2au = 1.0 / Energy_au2J\n",
    "Energy_kJpermol2au = 1.0e3 * Energy_J2au / Avogadro\n",
    "Energy_au2kJpermol = 1.0 / Energy_kJpermol2au\n",
    "Mass_gpermol2au = 1.0e-3 / (Avogadro * 9.10938356e-31)\n",
    "Pressure_au2bar = 2.9421015697e8"
   ]
  },
  {
   "cell_type": "markdown",
   "metadata": {},
   "source": [
    "Then we do all the corresponding conversions :"
   ]
  },
  {
   "cell_type": "code",
   "execution_count": 188,
   "metadata": {},
   "outputs": [],
   "source": [
    "Box_size = Box_size * Length_Angstrom2au\n",
    "\n",
    "\n",
    "EpsilonAr = EpsilonAr * Energy_kJpermol2au\n",
    "SigmaAr = SigmaAr * Length_Angstrom2au\n",
    "EpsilonKr = EpsilonKr * Energy_kJpermol2au\n",
    "SigmaKr = SigmaKr * Length_Angstrom2au\n",
    "\n",
    "MassAr = MassAr * Mass_gpermol2au \n",
    "MassKr = MassKr * Mass_gpermol2au \n",
    "\n",
    "\n",
    "Timestep = Timestep_fs * Time_fs2au\n",
    "Boltzmann_au = Boltzmann * Energy_J2au"
   ]
  },
  {
   "cell_type": "markdown",
   "metadata": {},
   "source": [
    "Finally before getting started we compute a few quantities (number of data points that will be accumulated, cut-off length, for the LJ interactions and interval for the calculation of the [radial distribution function](https://en.wikipedia.org/wiki/Radial_distribution_function))."
   ]
  },
  {
   "cell_type": "code",
   "execution_count": 189,
   "metadata": {},
   "outputs": [],
   "source": [
    "Nwrite_physical_properties = int(Nsteps / Frequency_write_physical_properties)\n",
    "Nwrite_physical_properties_equil = int(Nequil / Frequency_write_physical_properties)\n",
    "Rcutoff = min( Box_size/2.0 , 2.5*(SigmaAr+SigmaKr)/2 ) \n",
    "Rcutoff2 = Rcutoff**2\n",
    "Dr_rdf = Rcutoff/float(Ngrid_rdf)"
   ]
  },
  {
   "cell_type": "markdown",
   "metadata": {},
   "source": [
    "Note that all the variables defined so far will not change until the end, they are therefore noted with capital letters. In the following we define several functions that will be used by the program.\n",
    "\n",
    "**Function 1**: It computes the temperature and kinetic energy using the instantaneous velocities"
   ]
  },
  {
   "cell_type": "code",
   "execution_count": 232,
   "metadata": {},
   "outputs": [],
   "source": [
    "def Compute_Temperature(velocities):\n",
    "    kinetic_energy = 0.0\n",
    "    for i in range(Nargon) :\n",
    "        \n",
    "        kinetic_energy[0:57] = kinetic_energy[0:57] + 0.5*MassAr*np.dot(velocities[i,:],velocities[i,:])\n",
    "        \n",
    "    for i in range(Nargon+1,Nkrypton) :\n",
    "        \n",
    "        kinetic_energy[Nargon+1:Natoms] = kinetic_energy[Nargon+1:Natoms] + 0.5*MassKr*np.dot(velocities[i,:],velocities[i,:])\n",
    "        \n",
    "    temperature = 2.0 * kinetic_energy / (3.0 * Boltzmann_au * Natoms)\n",
    "\n",
    "    configurational_pressure = 2.0 * kinetic_energy / (3.0 * Box_size**3)\n",
    "    \n",
    "    return kinetic_energy,temperature, configurational_pressure"
   ]
  },
  {
   "cell_type": "markdown",
   "metadata": {},
   "source": [
    "**Function 2**: It computes the long-range correction on the energy and pressure due to the use of a cut-off in the Lennard-Jones potential"
   ]
  },
  {
   "cell_type": "code",
   "execution_count": 212,
   "metadata": {},
   "outputs": [],
   "source": [
    "def Compute_long_range_corrections(): #a faire\n",
    "\n",
    "    long_range_correction_energy = 4.0 * Epsilon * Sigma**3 * Natoms**2 * ((Sigma/Rcutoff)**9/3.0 -(Sigma/Rcutoff)**3)\n",
    "    long_range_correction_energy = long_range_correction_energy * 2.0 * Pi / (3.0 * Box_size**3)\n",
    "\n",
    "    long_range_correction_pressure = 4.0 * Epsilon * Sigma**3 * Natoms**2 * ((Sigma/Rcutoff)**9*4.0 - (Sigma/Rcutoff)**3*6.0)\n",
    "    long_range_correction_pressure = long_range_correction_pressure * 2.0 * Pi / (3.0 * Box_size**3)\n",
    "\n",
    "    long_range_correction_pressure = long_range_correction_pressure / (3.0 * Box_size**3)\n",
    "\n",
    "    return long_range_correction_energy, long_range_correction_pressure"
   ]
  },
  {
   "cell_type": "markdown",
   "metadata": {},
   "source": [
    "**Function 3**: It computes the forces, the virial and the potential energy of the system using the instantaneous positions. This is where most of the computational cost of the program lies due to the double-loop over the atoms. The  distance histograms necessary to calculate the [radial distribution function](https://en.wikipedia.org/wiki/Radial_distribution_function) are also accumulated here."
   ]
  },
  {
   "cell_type": "code",
   "execution_count": 213,
   "metadata": {},
   "outputs": [],
   "source": [
    "@numba.njit\n",
    "def lj_terms(r):  \n",
    "    attractive_term = (Sigma/r)**6\n",
    "    repulsive_term = attractive_term**2\n",
    "    return attractive_term, repulsive_term\n",
    "\n",
    "@numba.njit\n",
    "def lj_force(rsquare,attractive_term, repulsive_term):\n",
    "    fij = 4.0 * Epsilon * (12.0*repulsive_term-6.0*attractive_term)/rsquare\n",
    "    return fij\n",
    "\n",
    "@numba.njit\n",
    "def lj_energy(attractive_term, repulsive_term):\n",
    "    potential_energy = 4.0 * Epsilon * (repulsive_term - attractive_term)\n",
    "    return potential_energy\n",
    "\n",
    "@numba.njit\n",
    "def distance(ri,rj):\n",
    "    dx = ri[0] - rj[0]\n",
    "    dy = ri[1] - rj[1]\n",
    "    dz = ri[2] - rj[2]\n",
    "    if(dx > Box_size/2.0):\n",
    "        dx = dx - Box_size\n",
    "    if(dx < -Box_size/2.0):\n",
    "        dx = dx + Box_size\n",
    "    if(dy > Box_size/2.0):\n",
    "        dy = dy - Box_size\n",
    "    if(dy < -Box_size/2.0):\n",
    "        dy = dy + Box_size\n",
    "    if(dz > Box_size/2.0):\n",
    "        dz = dz - Box_size\n",
    "    if(dz < -Box_size/2.0):\n",
    "        dz = dz + Box_size  \n",
    "    r2 = dx*dx + dy*dy + dz*dz\n",
    "    r  = r2 ** 0.5\n",
    "    return dx, dy, dz, r, r2\n",
    "\n",
    "@numba.njit(parallel=True)\n",
    "def Compute_Forces(positions,rdf):\n",
    "\n",
    "    potential_energy = 0.0 \n",
    "    virial = 0.0\n",
    "    forces = np.zeros((Natoms,3))\n",
    "\n",
    "    for i in range(Natoms-1) :\n",
    "        for j in range(i+1,Natoms) :\n",
    "            dx,dy,dz,rijdist,rijsquare = distance(positions[i,:],positions[j,:])\n",
    "            if(rijsquare < Rcutoff2):\n",
    "                rdf[int(rijdist/Dr_rdf)] += 1.0\n",
    "                attractive_term, repulsive_term = lj_terms(rijdist)\n",
    "                fij = lj_force(rijsquare,attractive_term, repulsive_term)\n",
    "                energyij = lj_energy(attractive_term, repulsive_term)\n",
    "                potential_energy = potential_energy +  energyij\n",
    "                forces[i,0] = forces[i,0] + fij*dx\n",
    "                forces[j,0] = forces[j,0] - fij*dx\n",
    "                forces[i,1] = forces[i,1] + fij*dy\n",
    "                forces[j,1] = forces[j,1] - fij*dy\n",
    "                forces[i,2] = forces[i,2] + fij*dz\n",
    "                forces[j,2] = forces[j,2] - fij*dz                \n",
    "                virial = virial + 4.0 * Epsilon * (12.0*repulsive_term-6.0*attractive_term)\n",
    "\n",
    "    virial = virial/(3.0*Box_size**3)            \n",
    "\n",
    "    return potential_energy, forces, virial, rdf"
   ]
  },
  {
   "cell_type": "markdown",
   "metadata": {},
   "source": [
    "**Function 4**: It performs the first half of the [velocity-Verlet algorithm](https://en.wikipedia.org/wiki/Verlet_integration#Velocity_Verlet), in which the new positions and the temporary new velocities are computed"
   ]
  },
  {
   "cell_type": "code",
   "execution_count": 214,
   "metadata": {},
   "outputs": [],
   "source": [
    "def Verlet_halfstep1(positions, velocities, forces): #Modified #probleme de dimmension\n",
    "    \n",
    "    positions[0:Nargon] = positions[0:Nargon] + velocities[0:Nargon] * Timestep + 0.5*Timestep**2*forces[0:Nargon]/MassAr\n",
    "    positions[Nargon+1:Natoms] = positions[Nargon+1:Natoms] + velocities[Nargon+1:Natoms] * Timestep + 0.5*Timestep**2*forces[Nargon+1:Natoms]/MassKr\n",
    "    newpositions=positions\n",
    "\n",
    "    velocities[0:Nargon] = velocities[0:Nargon] + 0.5*Timestep*forces[0:Nargon]/MassAr\n",
    "    velocities[Nargon+1:Natoms] = velocities[Nargon+1:Natoms] + 0.5*Timestep*forces[Nargon+1:Natoms]/MassKr\n",
    "    newvelocities=velocities\n",
    "   \n",
    "\n",
    "    return newpositions, newvelocities"
   ]
  },
  {
   "cell_type": "markdown",
   "metadata": {},
   "source": [
    "**Function 5**: It performs the second half of the [velocity-Verlet algorithm](https://en.wikipedia.org/wiki/Verlet_integration#Velocity_Verlet), in which the new velocities are computed"
   ]
  },
  {
   "cell_type": "code",
   "execution_count": 215,
   "metadata": {},
   "outputs": [],
   "source": [
    "def Verlet_halfstep2(velocities, forces): #Modified\n",
    "    \n",
    "    velocities[0:Nargon] = velocities[0:Nargon] + 0.5*Timestep*forces[0:Nargon]/MassAr\n",
    "    velocities[Nargon+1:Natoms] = velocities[Nargon+1:Natoms] + 0.5*Timestep*forces[Nargon+1:Natoms]/MassAr\n",
    "    \n",
    "    newvelocities=velocities\n",
    "    \n",
    " \n",
    "    \n",
    "    return newvelocities"
   ]
  },
  {
   "cell_type": "markdown",
   "metadata": {},
   "source": [
    "**Function 6**: The positions are initialized by placing the atoms on a [face-centered cubic lattice](https://en.wikipedia.org/wiki/Close-packing_of_equal_spheres#FCC_and_HCP_Lattices) replicated three times along each direction"
   ]
  },
  {
   "cell_type": "code",
   "execution_count": 216,
   "metadata": {},
   "outputs": [],
   "source": [
    "def initialize_positions():\n",
    "\n",
    "    origin = np.zeros([3])\n",
    "    initial_positions = np.zeros([Natoms,3])\n",
    "    shift = Box_size / 4.0\n",
    "\n",
    "    origin[0] = 0.0\n",
    "    origin[1] = 0.0\n",
    "    origin[2] = 0.0\n",
    "\n",
    "    l = 0\n",
    "    for i in range (4) :\n",
    "        for j in range (4) :\n",
    "            for k in range (4) :\n",
    "                initial_positions[l,0] = origin[0] + i*shift\n",
    "                initial_positions[l,1] = origin[1] + j*shift\n",
    "                initial_positions[l,2] = origin[2] + k*shift  \n",
    "                l = l+1\n",
    "\n",
    "    origin[0] = 0.5\n",
    "    origin[1] = 0.5\n",
    "    origin[2] = 0.0\n",
    "    origin = origin * shift\n",
    "\n",
    "    for i in range (4) :\n",
    "        for j in range (4) :\n",
    "            for k in range (4) :\n",
    "                initial_positions[l,0] = origin[0] + i*shift\n",
    "                initial_positions[l,1] = origin[1] + j*shift\n",
    "                initial_positions[l,2] = origin[2] + k*shift  \n",
    "                l = l+1\n",
    "\n",
    "    origin[0] = 0.5\n",
    "    origin[1] = 0.0\n",
    "    origin[2] = 0.5\n",
    "    origin = origin * shift\n",
    "\n",
    "    for i in range (4) :\n",
    "        for j in range (4) :\n",
    "            for k in range (4) :\n",
    "                initial_positions[l,0] = origin[0] + i*shift\n",
    "                initial_positions[l,1] = origin[1] + j*shift\n",
    "                initial_positions[l,2] = origin[2] + k*shift  \n",
    "                l = l+1\n",
    "\n",
    "    origin[0] = 0.0\n",
    "    origin[1] = 0.5\n",
    "    origin[2] = 0.5\n",
    "    origin = origin * shift\n",
    "\n",
    "    for i in range (4) :\n",
    "        for j in range (4) :\n",
    "            for k in range (4) :\n",
    "                initial_positions[l,0] = origin[0] + i*shift\n",
    "                initial_positions[l,1] = origin[1] + j*shift\n",
    "                initial_positions[l,2] = origin[2] + k*shift  \n",
    "                l = l+1\n",
    "\n",
    "    return initial_positions"
   ]
  },
  {
   "cell_type": "markdown",
   "metadata": {},
   "source": [
    "**Function 7**: It applies [periodic boundary conditions](https://en.wikipedia.org/wiki/Periodic_boundary_conditions) by putting back the atoms inside the main cell"
   ]
  },
  {
   "cell_type": "code",
   "execution_count": 217,
   "metadata": {},
   "outputs": [],
   "source": [
    "def inside_box(positions):\n",
    "\n",
    "    for i in range(Natoms) :\n",
    "        for j in range(3) :\n",
    "            if(positions[i,j] > Box_size) :\n",
    "                positions[i,j] = positions[i,j] - Box_size\n",
    "            if(positions[i,j] < 0.0) :\n",
    "                positions[i,j] = positions[i,j] + Box_size\n",
    "\n",
    "    return positions"
   ]
  },
  {
   "cell_type": "markdown",
   "metadata": {},
   "source": [
    "**Function 8**: It removes the center of mass velocity to avoid the [flying ice cube effect](https://en.wikipedia.org/wiki/Flying_ice_cube)"
   ]
  },
  {
   "cell_type": "code",
   "execution_count": 218,
   "metadata": {},
   "outputs": [],
   "source": [
    "def remove_com_velocity(velocities):\n",
    "\n",
    "    velocity_com = np.zeros([3])\n",
    "    for i in range(Natoms) :\n",
    "        velocity_com[:] = velocity_com[:] + velocities[i,:]\n",
    "\n",
    "    velocity_com = velocity_com / Natoms\n",
    "\n",
    "    for i in range(Natoms) :\n",
    "        velocities[i,:] = velocities[i,:] - velocity_com[:]\n",
    "\n",
    "    return velocities"
   ]
  },
  {
   "cell_type": "markdown",
   "metadata": {},
   "source": [
    "**Function 9**: It performs velocity rescaling in order to equal the instantaneous temperature to the target one"
   ]
  },
  {
   "cell_type": "code",
   "execution_count": 219,
   "metadata": {},
   "outputs": [],
   "source": [
    "def rescale_velocities(velocities):\n",
    "\n",
    "    \n",
    "    temperature = Compute_Temperature(velocities)[1]\n",
    "    \n",
    "    scaling_factor_squared = 1.0 + (Timestep_fs / Thermostat_relaxation_time_fs) * (Temperature_imposed / temperature - 1.0)\n",
    "    scaling_factor = np.sqrt(scaling_factor_squared)\n",
    "    \n",
    "    scaled_velocities = velocities * scaling_factor\n",
    "            \n",
    "\n",
    "    return scaled_velocities"
   ]
  },
  {
   "cell_type": "markdown",
   "metadata": {},
   "source": [
    "**Function 10**: Velocities are initialized according to a random distribution, then the center of mass velocity is removed (by calling **Function 8**) and the velocities are rescaled (by calling **Function 9**)"
   ]
  },
  {
   "cell_type": "code",
   "execution_count": 220,
   "metadata": {},
   "outputs": [],
   "source": [
    "def initialize_velocities():\n",
    "\n",
    "    initial_velocities = np.random.normal(0,0.001,[Natoms,3])\n",
    "    initial_velocities = remove_com_velocity(initial_velocities)\n",
    "    temperature = Compute_Temperature(initial_velocities)[1]\n",
    "    initial_velocities = initial_velocities * np.sqrt(Temperature_imposed / temperature)\n",
    "\n",
    "    return initial_velocities"
   ]
  },
  {
   "cell_type": "markdown",
   "metadata": {},
   "source": [
    "**Function 11**: It creates arrays for all the physical properties (temperature, pressure, kinetic, potential and total energies, radial distribution functions) that will be computed during the simulation"
   ]
  },
  {
   "cell_type": "code",
   "execution_count": 221,
   "metadata": {},
   "outputs": [],
   "source": [
    "def initialize_physical_properties():\n",
    "\n",
    "    temperature = np.zeros([Nwrite_physical_properties])\n",
    "    pressure = np.zeros([Nwrite_physical_properties])\n",
    "    kinetic_energy = np.zeros([Nwrite_physical_properties])\n",
    "    potential_energy = np.zeros([Nwrite_physical_properties])\n",
    "    total_energy = np.zeros([Nwrite_physical_properties])\n",
    "    rdf = np.zeros([Ngrid_rdf])\n",
    "    time = np.zeros([Nwrite_physical_properties])\n",
    "\n",
    "    return temperature, pressure, kinetic_energy, potential_energy, total_energy, rdf, time"
   ]
  },
  {
   "cell_type": "markdown",
   "metadata": {},
   "source": [
    "__Function 12:__ Used to prepare the trajectory data to be visualized."
   ]
  },
  {
   "cell_type": "code",
   "execution_count": 222,
   "metadata": {},
   "outputs": [],
   "source": [
    "def Generate_MD_Traj(Natoms,AtomNames,Box_size,Coordinates):\n",
    "    \n",
    "    #In the case of a gas, residues are notapplicable here.\n",
    "    Nresidues = Natoms\n",
    "    \n",
    "    #Generate the \"Universe\" which defines the systems (Natoms and AtomNames)\n",
    "    U1 = MDAnalysis.Universe.empty(Natoms,\n",
    "                                   Nresidues,\n",
    "                                   atom_resindex=np.arange(Nresidues),\n",
    "                                   residue_segindex=[0]*Nresidues,\n",
    "                                   trajectory=True,\n",
    "                                  )\n",
    "    \n",
    "    #U1.triclinic_dimensions = [[Box_size,0,0],[0,Box_size,0],[0,0,Box_size]]\n",
    "\n",
    "    #Additional Information that should be defined to complete \"Universe.\" Many of these values are\n",
    "    #just dummy values. \"Type\" is the most relevant parameter defining the element type.\n",
    "    U1.add_TopologyAttr('name',[str(AtomNames)]*Nresidues)\n",
    "    U1.add_TopologyAttr('type',[str(AtomNames)]*Nresidues) # Element Type\n",
    "    U1.add_TopologyAttr('resnames',[str(AtomNames)]*Nresidues)\n",
    "    U1.add_TopologyAttr('resid',list(range(1,Nresidues+1)))\n",
    "    U1.add_TopologyAttr('segid',['DUMMY'])\n",
    "    \n",
    "    \n",
    "\n",
    "    #Assign positions from an np.array of trajectory coordinates\n",
    "    U1.load_new(np.array(Coordinates), order='fac')\n",
    "    U1.dimensions = np.array([Box_size,Box_size,Box_size,90,90,90])\n",
    "\n",
    "    return U1\n",
    "\n",
    "def Visualize_Trajectory(MD_Universe):\n",
    "    \n",
    "    #Generates the object that is ultimately returned and visualized\n",
    "    U1_view = nv.show_mdanalysis(MD_Universe)\n",
    "    U1_view.add_representation('spacefill', selection='all',color='#660066',opacity=0.75)\n",
    "\n",
    "    #Paramters used to make the system easier to see. Background color, perspective, shadows, etc.\n",
    "    U1_view.add_unitcell()\n",
    "    U1_view.camera = 'orthographic'\n",
    "    U1_view.center()\n",
    "    U1_view.parameters = {\n",
    "    # \"percentages, \"dist\" is distance too camera in Angstrom\n",
    "    \"clipNear\": 20, \"clipFar\": 90, \"clipDist\": 10,\n",
    "    # percentages, start of fog and where on full effect\n",
    "    \"fogNear\": 20, \"fogFar\": 90,\n",
    "    # background color\n",
    "    \"backgroundColor\": \"#F5F5F5\",\n",
    "}\n",
    "    return U1_view"
   ]
  },
  {
   "cell_type": "markdown",
   "metadata": {},
   "source": [
    "The main program may be splitted in three parts:\n",
    "- An initialization in which starting values are assigned to the positions and velocities, and the various arrays are created\n",
    "- An equilibration phase during which the velocities are rescaled at each step\n",
    "- A production phase during which the system should sample equilibrium configurations only. It is during this phase that we will accumulate the physical properties"
   ]
  },
  {
   "cell_type": "code",
   "execution_count": 233,
   "metadata": {},
   "outputs": [
    {
     "ename": "TypeError",
     "evalue": "'float' object is not subscriptable",
     "output_type": "error",
     "traceback": [
      "\u001b[1;31m---------------------------------------------------------------------------\u001b[0m",
      "\u001b[1;31mTypeError\u001b[0m                                 Traceback (most recent call last)",
      "\u001b[1;32m<ipython-input-233-491a526d3311>\u001b[0m in \u001b[0;36m<module>\u001b[1;34m\u001b[0m\n\u001b[0;32m      2\u001b[0m \u001b[0mcoords_MD\u001b[0m\u001b[1;33m=\u001b[0m \u001b[1;33m[\u001b[0m\u001b[1;33m]\u001b[0m\u001b[1;33m\u001b[0m\u001b[1;33m\u001b[0m\u001b[0m\n\u001b[0;32m      3\u001b[0m \u001b[0mpositions\u001b[0m \u001b[1;33m=\u001b[0m \u001b[0minitialize_positions\u001b[0m\u001b[1;33m(\u001b[0m\u001b[1;33m)\u001b[0m\u001b[1;33m\u001b[0m\u001b[1;33m\u001b[0m\u001b[0m\n\u001b[1;32m----> 4\u001b[1;33m \u001b[0mvelocities\u001b[0m \u001b[1;33m=\u001b[0m \u001b[0minitialize_velocities\u001b[0m\u001b[1;33m(\u001b[0m\u001b[1;33m)\u001b[0m\u001b[1;33m\u001b[0m\u001b[1;33m\u001b[0m\u001b[0m\n\u001b[0m\u001b[0;32m      5\u001b[0m \u001b[0mtemperature\u001b[0m\u001b[1;33m,\u001b[0m \u001b[0mpressure\u001b[0m\u001b[1;33m,\u001b[0m \u001b[0mkinetic_energy\u001b[0m\u001b[1;33m,\u001b[0m \u001b[0mpotential_energy\u001b[0m\u001b[1;33m,\u001b[0m \u001b[0mtotal_energy\u001b[0m\u001b[1;33m,\u001b[0m \u001b[0mrdf\u001b[0m\u001b[1;33m,\u001b[0m \u001b[0mtime\u001b[0m \u001b[1;33m=\u001b[0m \u001b[0minitialize_physical_properties\u001b[0m\u001b[1;33m(\u001b[0m\u001b[1;33m)\u001b[0m\u001b[1;33m\u001b[0m\u001b[1;33m\u001b[0m\u001b[0m\n\u001b[0;32m      6\u001b[0m \u001b[0mlong_range_correction_energy\u001b[0m\u001b[1;33m,\u001b[0m \u001b[0mlong_range_correction_pressure\u001b[0m \u001b[1;33m=\u001b[0m \u001b[0mCompute_long_range_corrections\u001b[0m\u001b[1;33m(\u001b[0m\u001b[1;33m)\u001b[0m\u001b[1;33m\u001b[0m\u001b[1;33m\u001b[0m\u001b[0m\n",
      "\u001b[1;32m<ipython-input-220-107ba520b948>\u001b[0m in \u001b[0;36minitialize_velocities\u001b[1;34m()\u001b[0m\n\u001b[0;32m      3\u001b[0m     \u001b[0minitial_velocities\u001b[0m \u001b[1;33m=\u001b[0m \u001b[0mnp\u001b[0m\u001b[1;33m.\u001b[0m\u001b[0mrandom\u001b[0m\u001b[1;33m.\u001b[0m\u001b[0mnormal\u001b[0m\u001b[1;33m(\u001b[0m\u001b[1;36m0\u001b[0m\u001b[1;33m,\u001b[0m\u001b[1;36m0.001\u001b[0m\u001b[1;33m,\u001b[0m\u001b[1;33m[\u001b[0m\u001b[0mNatoms\u001b[0m\u001b[1;33m,\u001b[0m\u001b[1;36m3\u001b[0m\u001b[1;33m]\u001b[0m\u001b[1;33m)\u001b[0m\u001b[1;33m\u001b[0m\u001b[1;33m\u001b[0m\u001b[0m\n\u001b[0;32m      4\u001b[0m     \u001b[0minitial_velocities\u001b[0m \u001b[1;33m=\u001b[0m \u001b[0mremove_com_velocity\u001b[0m\u001b[1;33m(\u001b[0m\u001b[0minitial_velocities\u001b[0m\u001b[1;33m)\u001b[0m\u001b[1;33m\u001b[0m\u001b[1;33m\u001b[0m\u001b[0m\n\u001b[1;32m----> 5\u001b[1;33m     \u001b[0mtemperature\u001b[0m \u001b[1;33m=\u001b[0m \u001b[0mCompute_Temperature\u001b[0m\u001b[1;33m(\u001b[0m\u001b[0minitial_velocities\u001b[0m\u001b[1;33m)\u001b[0m\u001b[1;33m[\u001b[0m\u001b[1;36m1\u001b[0m\u001b[1;33m]\u001b[0m\u001b[1;33m\u001b[0m\u001b[1;33m\u001b[0m\u001b[0m\n\u001b[0m\u001b[0;32m      6\u001b[0m     \u001b[0minitial_velocities\u001b[0m \u001b[1;33m=\u001b[0m \u001b[0minitial_velocities\u001b[0m \u001b[1;33m*\u001b[0m \u001b[0mnp\u001b[0m\u001b[1;33m.\u001b[0m\u001b[0msqrt\u001b[0m\u001b[1;33m(\u001b[0m\u001b[0mTemperature_imposed\u001b[0m \u001b[1;33m/\u001b[0m \u001b[0mtemperature\u001b[0m\u001b[1;33m)\u001b[0m\u001b[1;33m\u001b[0m\u001b[1;33m\u001b[0m\u001b[0m\n\u001b[0;32m      7\u001b[0m \u001b[1;33m\u001b[0m\u001b[0m\n",
      "\u001b[1;32m<ipython-input-232-a8273031bc3e>\u001b[0m in \u001b[0;36mCompute_Temperature\u001b[1;34m(velocities)\u001b[0m\n\u001b[0;32m      3\u001b[0m     \u001b[1;32mfor\u001b[0m \u001b[0mi\u001b[0m \u001b[1;32min\u001b[0m \u001b[0mrange\u001b[0m\u001b[1;33m(\u001b[0m\u001b[0mNargon\u001b[0m\u001b[1;33m)\u001b[0m \u001b[1;33m:\u001b[0m\u001b[1;33m\u001b[0m\u001b[1;33m\u001b[0m\u001b[0m\n\u001b[0;32m      4\u001b[0m \u001b[1;33m\u001b[0m\u001b[0m\n\u001b[1;32m----> 5\u001b[1;33m         \u001b[0mkinetic_energy\u001b[0m\u001b[1;33m[\u001b[0m\u001b[1;36m0\u001b[0m\u001b[1;33m:\u001b[0m\u001b[1;36m57\u001b[0m\u001b[1;33m]\u001b[0m \u001b[1;33m=\u001b[0m \u001b[0mkinetic_energy\u001b[0m\u001b[1;33m[\u001b[0m\u001b[1;36m0\u001b[0m\u001b[1;33m:\u001b[0m\u001b[1;36m57\u001b[0m\u001b[1;33m]\u001b[0m \u001b[1;33m+\u001b[0m \u001b[1;36m0.5\u001b[0m\u001b[1;33m*\u001b[0m\u001b[0mMassAr\u001b[0m\u001b[1;33m*\u001b[0m\u001b[0mnp\u001b[0m\u001b[1;33m.\u001b[0m\u001b[0mdot\u001b[0m\u001b[1;33m(\u001b[0m\u001b[0mvelocities\u001b[0m\u001b[1;33m[\u001b[0m\u001b[0mi\u001b[0m\u001b[1;33m,\u001b[0m\u001b[1;33m:\u001b[0m\u001b[1;33m]\u001b[0m\u001b[1;33m,\u001b[0m\u001b[0mvelocities\u001b[0m\u001b[1;33m[\u001b[0m\u001b[0mi\u001b[0m\u001b[1;33m,\u001b[0m\u001b[1;33m:\u001b[0m\u001b[1;33m]\u001b[0m\u001b[1;33m)\u001b[0m\u001b[1;33m\u001b[0m\u001b[1;33m\u001b[0m\u001b[0m\n\u001b[0m\u001b[0;32m      6\u001b[0m \u001b[1;33m\u001b[0m\u001b[0m\n\u001b[0;32m      7\u001b[0m     \u001b[1;32mfor\u001b[0m \u001b[0mi\u001b[0m \u001b[1;32min\u001b[0m \u001b[0mrange\u001b[0m\u001b[1;33m(\u001b[0m\u001b[0mNargon\u001b[0m\u001b[1;33m+\u001b[0m\u001b[1;36m1\u001b[0m\u001b[1;33m,\u001b[0m\u001b[0mNkrypton\u001b[0m\u001b[1;33m)\u001b[0m \u001b[1;33m:\u001b[0m\u001b[1;33m\u001b[0m\u001b[1;33m\u001b[0m\u001b[0m\n",
      "\u001b[1;31mTypeError\u001b[0m: 'float' object is not subscriptable"
     ]
    }
   ],
   "source": [
    "## Initialization\n",
    "coords_MD= [] \n",
    "positions = initialize_positions()\n",
    "velocities = initialize_velocities()\n",
    "temperature, pressure, kinetic_energy, potential_energy, total_energy, rdf, time = initialize_physical_properties()\n",
    "long_range_correction_energy, long_range_correction_pressure = Compute_long_range_corrections() \n",
    "\n",
    "forces = Compute_Forces(positions, rdf)[1]\n",
    "\n",
    "k = 0\n",
    "kwrite = 0\n",
    "## Integrate equations of motion -- equilibration\n",
    "for i in range(Nequil) :\n",
    "    positions, velocities = Verlet_halfstep1(positions, velocities, forces)\n",
    "   \n",
    "    positions = inside_box(positions)\n",
    "    locpotential_energy, forces, virial, rdf = Compute_Forces(positions, rdf)\n",
    "    velocities = Verlet_halfstep2(velocities, forces)\n",
    "    velocities = remove_com_velocity(velocities)\n",
    "    velocities = rescale_velocities(velocities) \n",
    "#   pressure = virial + conf_pressure + long_range_correction_pressure\n",
    "    if (np.mod(k+1,Frequency_write_physical_properties) == 0) :\n",
    "        lockinetic_energy, temperature[kwrite], conf_pressure = Compute_Temperature(velocities)\n",
    "        potential_energy[kwrite] = locpotential_energy + long_range_correction_energy\n",
    "        potential_energy[kwrite] = potential_energy[kwrite] * Energy_au2kJpermol\n",
    "        kinetic_energy[kwrite] = lockinetic_energy * Energy_au2kJpermol\n",
    "        total_energy[kwrite] = kinetic_energy[kwrite] + potential_energy[kwrite]\n",
    "        pressure[kwrite] = virial + conf_pressure\n",
    "        pressure[kwrite] = pressure[kwrite] * Pressure_au2bar\n",
    "        time[kwrite] = Frequency_write_physical_properties * kwrite * Timestep_fs \n",
    "        kwrite = kwrite + 1\n",
    "    if (np.mod(k+1,Frequency_write_trajectories) == 0) : \n",
    "        coords_MD.append(positions)\n",
    "    k = k + 1   \n",
    "\n",
    "# We need to reinitialize the accumulation of the rdf to account for production stage only    \n",
    "rdf = np.zeros([Ngrid_rdf])    \n",
    "    \n",
    "## Integrate equations of motion -- production\n",
    "for i in range(Nsteps-Nequil) :\n",
    "    positions, velocities = Verlet_halfstep1(positions, velocities, forces)\n",
    "    positions = inside_box(positions)\n",
    "    locpotential_energy, forces, virial, rdf = Compute_Forces(positions, rdf)\n",
    "    velocities = Verlet_halfstep2(velocities, forces)\n",
    "    velocities = remove_com_velocity(velocities)\n",
    "    velocities = rescale_velocities(velocities)\n",
    "#   pressure = virial + conf_pressure + long_range_correction_pressure\n",
    "    if (np.mod(k+1,Frequency_write_physical_properties) == 0) :\n",
    "        lockinetic_energy, temperature[kwrite], conf_pressure = Compute_Temperature(velocities)\n",
    "        potential_energy[kwrite] = locpotential_energy + long_range_correction_energy\n",
    "        potential_energy[kwrite] = potential_energy[kwrite] * Energy_au2kJpermol\n",
    "        kinetic_energy[kwrite] = lockinetic_energy * Energy_au2kJpermol\n",
    "        total_energy[kwrite] = kinetic_energy[kwrite] + potential_energy[kwrite]\n",
    "        pressure[kwrite] = virial + conf_pressure\n",
    "        pressure[kwrite] = pressure[kwrite] * Pressure_au2bar\n",
    "        time[kwrite] = Frequency_write_physical_properties * kwrite * Timestep_fs\n",
    "        kwrite = kwrite + 1\n",
    "    if (np.mod(k+1,Frequency_write_trajectories) == 0) : \n",
    "        coords_MD.append(positions)        \n",
    "    k = k + 1\n",
    "   \n",
    "print('Average temperature during production was',np.mean(temperature[Nwrite_physical_properties_equil:]),' K')\n",
    "print('Average pressure during production was',np.mean(pressure[Nwrite_physical_properties_equil:]),' bar')"
   ]
  },
  {
   "cell_type": "code",
   "execution_count": 236,
   "metadata": {},
   "outputs": [
    {
     "name": "stdout",
     "output_type": "stream",
     "text": [
      "Average total energy during production was 4.83426550627007e+21  kJ/mol\n",
      "5000\n"
     ]
    },
    {
     "data": {
      "text/plain": [
       "numpy.ndarray"
      ]
     },
     "execution_count": 236,
     "metadata": {},
     "output_type": "execute_result"
    }
   ],
   "source": [
    "print('Average total energy during production was',np.mean(total_energy[Nwrite_physical_properties_equil:]),' kJ/mol')\n",
    "print(len(kinetic_energy))\n",
    "type(kinetic_energy)"
   ]
  },
  {
   "cell_type": "markdown",
   "metadata": {},
   "source": [
    "Once the simulation is made we can visualize the various results. First we can have a look at the various energies"
   ]
  },
  {
   "cell_type": "code",
   "execution_count": null,
   "metadata": {},
   "outputs": [],
   "source": [
    "plt.figure(dpi=1200)\n",
    "plt.rc('text', usetex=False)\n",
    "plt.plot(time,kinetic_energy, label=\"kinetic\")\n",
    "plt.plot(time,potential_energy, label=\"potential\")\n",
    "plt.plot(time,total_energy, label=\"total\")\n",
    "plt.legend()\n",
    "plt.xlabel(r't (fs)')\n",
    "plt.ylabel(r'E (kJ mol$^{-1}$)')"
   ]
  },
  {
   "cell_type": "code",
   "execution_count": null,
   "metadata": {},
   "outputs": [],
   "source": [
    "plt.figure(dpi=1200)\n",
    "plt.rc('text', usetex=False)\n",
    "mean_et = np.mean(total_energy[Nwrite_physical_properties_equil:])\n",
    "mean_ep = np.mean(potential_energy[Nwrite_physical_properties_equil:])\n",
    "mean_ek = np.mean(kinetic_energy[Nwrite_physical_properties_equil:])\n",
    "plt.plot(time[Nwrite_physical_properties_equil:],kinetic_energy[Nwrite_physical_properties_equil:]-mean_ek, label=\"kinetic\")\n",
    "plt.plot(time[Nwrite_physical_properties_equil:],potential_energy[Nwrite_physical_properties_equil:]-mean_ep, label=\"potential\")\n",
    "plt.plot(time[Nwrite_physical_properties_equil:],total_energy[Nwrite_physical_properties_equil:]-mean_et, label=\"total\")\n",
    "plt.legend()\n",
    "plt.xlabel(r't (fs)')\n",
    "plt.ylabel(r'E - $\\langle$E$\\rangle$ (kJ mol$^{-1}$)')"
   ]
  },
  {
   "cell_type": "markdown",
   "metadata": {},
   "source": [
    "Same for the temperature"
   ]
  },
  {
   "cell_type": "code",
   "execution_count": null,
   "metadata": {
    "scrolled": true
   },
   "outputs": [],
   "source": [
    "plt.figure(dpi=1200)\n",
    "plt.rc('text', usetex=False)\n",
    "plt.plot(time,temperature)\n",
    "plt.xlabel(r't (fs)')\n",
    "plt.ylabel(r'T (K)')"
   ]
  },
  {
   "cell_type": "markdown",
   "metadata": {},
   "source": [
    "We can visualize the positions that are collected in `coords_MD`. First we need to convert from a `NumPy` array to a data structure that can be used with `nglview`. Here, the coordinates will be imported using `MDAnalysis`."
   ]
  },
  {
   "cell_type": "code",
   "execution_count": null,
   "metadata": {},
   "outputs": [],
   "source": []
  },
  {
   "cell_type": "code",
   "execution_count": null,
   "metadata": {},
   "outputs": [],
   "source": [
    "U1 = Generate_MD_Traj(Natoms,'Ar',Box_size,coords_MD)"
   ]
  },
  {
   "cell_type": "code",
   "execution_count": null,
   "metadata": {},
   "outputs": [],
   "source": [
    "show_simulation = Visualize_Trajectory(U1)\n",
    "show_simulation"
   ]
  },
  {
   "cell_type": "markdown",
   "metadata": {},
   "source": [
    "We can also plot the [radial distribution functions](https://en.wikipedia.org/wiki/Radial_distribution_function) which provide important information on the structure of the system"
   ]
  },
  {
   "cell_type": "code",
   "execution_count": null,
   "metadata": {},
   "outputs": [],
   "source": [
    "plt.figure(dpi=1200)\n",
    "prefactor = 6.0 * Box_size**3 / (Natoms*Natoms*(Nsteps-Nequil)*4.0*Pi)\n",
    "r = np.zeros([Ngrid_rdf])\n",
    "rdf2 = np.zeros([Ngrid_rdf])\n",
    "for i in range(Ngrid_rdf):\n",
    "    rlower = i * Dr_rdf\n",
    "    rupper = rlower + Dr_rdf\n",
    "    r[i]=0.5*(rlower+rupper)*Length_au2Angstrom\n",
    "    normalization = prefactor / (rupper**3-rlower**3)\n",
    "    rdf2[i] = rdf[i] * normalization\n",
    "plt.rc('text', usetex=False)\n",
    "plt.plot(r,rdf2)\n",
    "plt.xlabel(r'r ($\\AA$)')\n",
    "plt.ylabel(r'g(r)')    \n",
    "    "
   ]
  },
  {
   "cell_type": "code",
   "execution_count": null,
   "metadata": {},
   "outputs": [],
   "source": []
  }
 ],
 "metadata": {
  "kernelspec": {
   "display_name": "Python 3",
   "language": "python",
   "name": "python3"
  },
  "language_info": {
   "codemirror_mode": {
    "name": "ipython",
    "version": 3
   },
   "file_extension": ".py",
   "mimetype": "text/x-python",
   "name": "python",
   "nbconvert_exporter": "python",
   "pygments_lexer": "ipython3",
   "version": "3.8.3"
  }
 },
 "nbformat": 4,
 "nbformat_minor": 4
}
